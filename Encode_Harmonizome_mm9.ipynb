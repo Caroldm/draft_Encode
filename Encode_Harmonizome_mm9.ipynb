{
 "cells": [
  {
   "cell_type": "markdown",
   "metadata": {},
   "source": [
    "# Encode - Harmonizome"
   ]
  },
  {
   "cell_type": "code",
   "execution_count": 401,
   "metadata": {
    "collapsed": false
   },
   "outputs": [],
   "source": [
    "#!/usr/bin/python\n",
    "\n",
    "# Packages and dependencies\n",
    "from ipywidgets import *\n",
    "import pandas as pd\n",
    "import glob\n",
    "import numpy as np\n",
    "import os\n",
    "import re\n",
    "import json\n",
    "import requests\n",
    "import csv\n",
    "import requests\n",
    "import urllib2\n",
    "import StringIO\n",
    "import gzip\n",
    "import matplotlib.pyplot as plt\n",
    "import scipy.spatial.distance as dist"
   ]
  },
  {
   "cell_type": "markdown",
   "metadata": {},
   "source": [
    "# Metadata"
   ]
  },
  {
   "cell_type": "code",
   "execution_count": 402,
   "metadata": {
    "collapsed": false,
    "scrolled": true
   },
   "outputs": [
    {
     "data": {
      "text/plain": [
       "(193, 48)"
      ]
     },
     "execution_count": 402,
     "metadata": {},
     "output_type": "execute_result"
    }
   ],
   "source": [
    "df_meta = pd.read_csv('/Users/Carol/Desktop/Encode_eu/mm9_metadata.csv', header = 0)\n",
    "df_meta.head(5)\n",
    "df_meta.shape"
   ]
  },
  {
   "cell_type": "code",
   "execution_count": 403,
   "metadata": {
    "collapsed": true
   },
   "outputs": [],
   "source": [
    "# df_meta [\"Biosample term id\"]\n"
   ]
  },
  {
   "cell_type": "code",
   "execution_count": 404,
   "metadata": {
    "collapsed": false
   },
   "outputs": [],
   "source": [
    "# list(df_meta)"
   ]
  },
  {
   "cell_type": "code",
   "execution_count": 405,
   "metadata": {
    "collapsed": false
   },
   "outputs": [],
   "source": [
    "# Checking columns names\n",
    "# list(df_meta)"
   ]
  },
  {
   "cell_type": "code",
   "execution_count": 406,
   "metadata": {
    "collapsed": false
   },
   "outputs": [
    {
     "data": {
      "text/html": [
       "<div>\n",
       "<table border=\"1\" class=\"dataframe\">\n",
       "  <thead>\n",
       "    <tr style=\"text-align: right;\">\n",
       "      <th></th>\n",
       "      <th>Experiment accession</th>\n",
       "      <th>Experiment_target</th>\n",
       "      <th>0</th>\n",
       "    </tr>\n",
       "  </thead>\n",
       "  <tbody>\n",
       "    <tr>\n",
       "      <th>0</th>\n",
       "      <td>ENCSR000EQW</td>\n",
       "      <td>ZKSCAN1</td>\n",
       "      <td>ZKSCAN1_CH12.LX_mm9</td>\n",
       "    </tr>\n",
       "    <tr>\n",
       "      <th>1</th>\n",
       "      <td>ENCSR000ERC</td>\n",
       "      <td>BHLHE40</td>\n",
       "      <td>BHLHE40_CH12.LX_mm9</td>\n",
       "    </tr>\n",
       "    <tr>\n",
       "      <th>2</th>\n",
       "      <td>ENCSR000EQQ</td>\n",
       "      <td>ZC3H11A</td>\n",
       "      <td>ZC3H11A_CH12.LX_mm9</td>\n",
       "    </tr>\n",
       "  </tbody>\n",
       "</table>\n",
       "</div>"
      ],
      "text/plain": [
       "  Experiment accession Experiment_target                    0\n",
       "0          ENCSR000EQW           ZKSCAN1  ZKSCAN1_CH12.LX_mm9\n",
       "1          ENCSR000ERC           BHLHE40  BHLHE40_CH12.LX_mm9\n",
       "2          ENCSR000EQQ           ZC3H11A  ZC3H11A_CH12.LX_mm9"
      ]
     },
     "execution_count": 406,
     "metadata": {},
     "output_type": "execute_result"
    }
   ],
   "source": [
    "# dataframe ENCODE_ID to enrichr_id\n",
    "df_meta = pd.read_csv('/Users/Carol/Desktop/Encode_eu/mm9_metadata.csv', header = 0)\n",
    "df_enrich = df_meta[\"Experiment_target\"].map(str) + '_' + df_meta[\"Biosample term name\"].map(str) + '_'+ df_meta[\"Assembly\"]\n",
    "df_ex = df_meta[\"Experiment accession\"]\n",
    "df_tf = df_meta[\"Experiment_target\"]\n",
    "df_metadata = pd.concat((df_ex, df_tf,df_enrich), axis=1)\n",
    "\n",
    "df_metadata.head(3)\n",
    "# df_metadata.to_csv('Experiment.csv')"
   ]
  },
  {
   "cell_type": "code",
   "execution_count": 407,
   "metadata": {
    "collapsed": false
   },
   "outputs": [],
   "source": [
    "# df_enrich = df_meta[df_meta[\"Experiment_target\"].replace({'-mouse': ''}, regex=True)].map(str) + df_meta[\"Biosample term name\"].map(str) + '_'+ df_meta[\"Assembly\"]\n",
    "# df_enrich"
   ]
  },
  {
   "cell_type": "markdown",
   "metadata": {},
   "source": [
    "# Gene Set Library"
   ]
  },
  {
   "cell_type": "code",
   "execution_count": 357,
   "metadata": {
    "collapsed": false
   },
   "outputs": [],
   "source": [
    "## NEW FOLDER UCSC example\n",
    "\n",
    "import glob\n",
    "import numpy as np\n",
    "path = '/Users/Carol/Desktop/EncodeUCSC/bedFiles/' ## NOVA pasta\n",
    "\n",
    "files = glob.glob(os.path.join(path, '*.txt')) # All txt files in folder\n",
    "fids = np.unique([file.split('_')[0] for file in files])  ## unique accession IDs\n",
    "\n",
    "for fid in fids:\n",
    "    df_ = pd.DataFrame()\n",
    "    for fname in files:\n",
    "        if fid in fname:\n",
    "            df = pd.read_csv(fname, sep='\\t', header=0)\n",
    "            df.columns = ['ID ', 'Chr', 'Start', 'End', 'Strand', 'Peak Score', 'Focus Ratio/Region Size', 'Annotation', 'Detailed Annotation', 'Distance', 'PromoterID', 'EntrezID', 'Unigene', 'Refseq', 'Ensembl', 'GeneName', 'GeneAlias','GeneDescription', 'GeneType']\n",
    "            \n",
    "            df_ = pd.concat((df_, df))\n",
    "    df_ = df_.groupby('GeneName').agg(np.mean) # group duplicated genes by the mean\n",
    "    # Here groupby is combining the results into a data structure based on the mean . groupby gene name than aplly the the function mean \n",
    "    #to the resulting groups\n",
    "    df = df_[(df_.Distance <= 2000) & (df_.Distance >= -2000)] # Use a single column's value to select data\n",
    "    #reindexing allows you to add/change/delete the index on a specified axis\n",
    "    #this returns a copy of the data\n",
    "    df = df.reindex(df.Distance.abs().sort_values(inplace=False, ascending=True).index) #sorts by abs value, then reorganizes gene column with the index\n",
    "    df_2000 = df[:3000]\n",
    "    df_2000.to_csv(fid,sep='\\t')"
   ]
  },
  {
   "cell_type": "markdown",
   "metadata": {
    "collapsed": true
   },
   "source": [
    "# GENE MATRIX\n",
    "\n",
    "get all the files together"
   ]
  },
  {
   "cell_type": "code",
   "execution_count": 358,
   "metadata": {
    "collapsed": false
   },
   "outputs": [],
   "source": [
    "# Each iteration creats one data frame per experiment. This folder has been renamed annotatedPeaks \n",
    "# for clarity porpuses.\n",
    "# df_2000.head(5)"
   ]
  },
  {
   "cell_type": "code",
   "execution_count": 419,
   "metadata": {
    "collapsed": false
   },
   "outputs": [],
   "source": [
    "# if for some reason not finding GeneName on index, delete DS store file from folder\n",
    "import os\n",
    "\n",
    "files = os.listdir(\"/Users/Carol/Desktop/annotatedPeaks\")\n",
    "# print files\n",
    "\n",
    "df_ = pd.DataFrame()\n",
    "\n",
    "for f in files:\n",
    "    fname = \"/Users/Carol/Desktop/annotatedPeaks/\"+f\n",
    "    for f in f:\n",
    "        df = pd.read_csv(fname, sep='\\t', header=0)\n",
    "        df = df[['GeneName']]\n",
    "#         df= df.rename(columns = {'GeneName':fname})\n",
    "#         df = df.T\n",
    "    df_ = pd.concat((df_, df))\n",
    "\n",
    "df_.to_csv('gne_mat_init.csv') # Deu uma leve arrumadinha"
   ]
  },
  {
   "cell_type": "code",
   "execution_count": 423,
   "metadata": {
    "collapsed": false
   },
   "outputs": [],
   "source": [
    "# drop duplicated genes \n",
    "df_gene_mat = df_.drop_duplicates\n",
    "# df_gene_mat"
   ]
  },
  {
   "cell_type": "code",
   "execution_count": null,
   "metadata": {
    "collapsed": true
   },
   "outputs": [],
   "source": []
  },
  {
   "cell_type": "markdown",
   "metadata": {},
   "source": [
    "# Gene Atribute Matrix"
   ]
  },
  {
   "cell_type": "code",
   "execution_count": 385,
   "metadata": {
    "collapsed": false
   },
   "outputs": [
    {
     "data": {
      "text/html": [
       "<div>\n",
       "<table border=\"1\" class=\"dataframe\">\n",
       "  <thead>\n",
       "    <tr style=\"text-align: right;\">\n",
       "      <th></th>\n",
       "      <th>GeneSym</th>\n",
       "      <th>Cell</th>\n",
       "      <th>Assembly</th>\n",
       "    </tr>\n",
       "  </thead>\n",
       "  <tbody>\n",
       "    <tr>\n",
       "      <th>0</th>\n",
       "      <td>CEBPB</td>\n",
       "      <td>myocyte</td>\n",
       "      <td>mm9</td>\n",
       "    </tr>\n",
       "    <tr>\n",
       "      <th>1</th>\n",
       "      <td>MYOG</td>\n",
       "      <td>myocyte</td>\n",
       "      <td>mm9</td>\n",
       "    </tr>\n",
       "    <tr>\n",
       "      <th>2</th>\n",
       "      <td>MYOG</td>\n",
       "      <td>myocyte</td>\n",
       "      <td>mm9</td>\n",
       "    </tr>\n",
       "  </tbody>\n",
       "</table>\n",
       "</div>"
      ],
      "text/plain": [
       "  GeneSym     Cell Assembly\n",
       "0   CEBPB  myocyte      mm9\n",
       "1    MYOG  myocyte      mm9\n",
       "2    MYOG  myocyte      mm9"
      ]
     },
     "execution_count": 385,
     "metadata": {},
     "output_type": "execute_result"
    }
   ],
   "source": [
    "#Split Enrichr ID\n",
    "df_id = pd.DataFrame(df[0].str.split('_').tolist())\n",
    "df_id = df_id.rename(columns={0: 'GeneSym', 1: 'Cell', 2:'Assembly'})\n",
    "df_id.head(3)"
   ]
  },
  {
   "cell_type": "code",
   "execution_count": 386,
   "metadata": {
    "collapsed": false
   },
   "outputs": [],
   "source": [
    "# Keep only TF\n",
    "df_tf = df_id[\"GeneSym\"]"
   ]
  },
  {
   "cell_type": "code",
   "execution_count": 329,
   "metadata": {
    "collapsed": true
   },
   "outputs": [],
   "source": [
    "# Drop enrichr_id\n",
    "df_ne = df.drop(df.columns[0], axis=1)"
   ]
  },
  {
   "cell_type": "markdown",
   "metadata": {},
   "source": [
    "# COMECO"
   ]
  },
  {
   "cell_type": "code",
   "execution_count": 334,
   "metadata": {
    "collapsed": true
   },
   "outputs": [],
   "source": [
    "# Gene Attribute Matrix"
   ]
  },
  {
   "cell_type": "code",
   "execution_count": null,
   "metadata": {
    "collapsed": false
   },
   "outputs": [],
   "source": [
    "dfList = []\n",
    "\n",
    "files= os.listdir(\"/Users/Carol/Desktop/annotatedPeaks\")\n",
    "\n",
    "for file in files:\n",
    "    fname = \"/Users/Carol/Desktop/annotatedPeaks/\" + file\n",
    "#     df = pd.read_csv(fname, sep='\\t', header = None, names = ['GeneName'])\n",
    "    df = pd.read_csv(fname, sep='\\t', header = 0)\n",
    "    df = df['GeneName']\n",
    "#     df = df.assign(file = file.replace('.txt', ''), num = 1)\n",
    "    dfList.append(df)\n",
    "    print dfList\n",
    "finaldf = pd.concat(dfList)\n",
    "# print finaldf\n",
    "# PIVOT (LONG TO WIDE)\n",
    "finaldf = finaldf.pivot_table(index=['GeneName'], columns=[fname], values='num', aggfunc='count').fillna(0).reset_index()    \n",
    "\n",
    "# CONVERT TO INTEGER\n",
    "numcols = list(range(1,len(finaldf.columns)))\n",
    "f_df = finaldf.ix[:,numcols] = finaldf.ix[:,numcols].astype(int)\n",
    "f_df.to_csv('gene_matrix_mm9.csv')"
   ]
  },
  {
   "cell_type": "code",
   "execution_count": null,
   "metadata": {
    "collapsed": true
   },
   "outputs": [],
   "source": []
  },
  {
   "cell_type": "code",
   "execution_count": null,
   "metadata": {
    "collapsed": true
   },
   "outputs": [],
   "source": []
  },
  {
   "cell_type": "code",
   "execution_count": 379,
   "metadata": {
    "collapsed": true
   },
   "outputs": [],
   "source": [
    "# Gene Attribute Edges"
   ]
  },
  {
   "cell_type": "markdown",
   "metadata": {},
   "source": [
    "# Attribute List\n",
    "List of atributes in the processed dataset"
   ]
  },
  {
   "cell_type": "code",
   "execution_count": 424,
   "metadata": {
    "collapsed": false
   },
   "outputs": [],
   "source": [
    "#df_tf"
   ]
  },
  {
   "cell_type": "code",
   "execution_count": null,
   "metadata": {
    "collapsed": false
   },
   "outputs": [],
   "source": [
    "dfList = []\n",
    "\n",
    "files= os.listdir(\"/Users/Carol/Desktop/annotatedPeaks\")\n",
    "\n",
    "for file in files:\n",
    "    fname = \"/Users/Carol/Desktop/annotatedPeaks/\" + file\n",
    "#     df = pd.read_csv(fname, sep='\\t', header = None, names = ['GeneName'])\n",
    "    df = pd.read_csv(fname, sep='\\t', header = 0)\n",
    "    df = df['GeneName']\n",
    "#     df = df.assign(file = file.replace('.txt', ''), num = 1)\n",
    "    dfList.append(df)\n",
    "    print dfList\n",
    "finaldf = pd.concat(dfList)\n",
    "# print finaldf\n",
    "# PIVOT (LONG TO WIDE)\n",
    "finaldf = finaldf.pivot_table(index=['GeneName'], columns=[fname], values='num', aggfunc='count').fillna(0).reset_index()    \n",
    "\n",
    "# CONVERT TO INTEGER\n",
    "numcols = list(range(1,len(finaldf.columns)))\n",
    "f_df = finaldf.ix[:,numcols] = finaldf.ix[:,numcols].astype(int)\n",
    "f_df.to_csv('gene_matrix_mm9.csv')"
   ]
  },
  {
   "cell_type": "code",
   "execution_count": null,
   "metadata": {
    "collapsed": true
   },
   "outputs": [],
   "source": []
  },
  {
   "cell_type": "code",
   "execution_count": null,
   "metadata": {
    "collapsed": true
   },
   "outputs": [],
   "source": []
  },
  {
   "cell_type": "code",
   "execution_count": null,
   "metadata": {
    "collapsed": true
   },
   "outputs": [],
   "source": []
  },
  {
   "cell_type": "code",
   "execution_count": null,
   "metadata": {
    "collapsed": true
   },
   "outputs": [],
   "source": [
    "# Dessa forma um arquivo matrix e' criado, com cada arquivo como uma coluna\n",
    "# if for some reason not finding GeneName on index, delete DS store file from folder\n",
    "import os\n",
    "\n",
    "files = os.listdir(\"/Users/Carol/Desktop/annotatedPeaks\")\n",
    "# print files\n",
    "\n",
    "df_ = pd.DataFrame()\n",
    "\n",
    "for f in files:\n",
    "    fname = \"/Users/Carol/Desktop/annotatedPeaks/\"+f\n",
    "    for f in f:\n",
    "        df = pd.read_csv(fname, sep='\\t', header=0)\n",
    "        df = df[['GeneName']]\n",
    "        df= df.rename(columns = {'GeneName':fname})\n",
    "#         df = df.T\n",
    "    df_ = pd.concat([df_, df], axis=1)\n",
    "\n",
    "df_.to_csv('gne_mat_init_stack1.csv') # Deu uma leve arrumadinha"
   ]
  },
  {
   "cell_type": "code",
   "execution_count": 2,
   "metadata": {
    "collapsed": false
   },
   "outputs": [
    {
     "ename": "NameError",
     "evalue": "name 'os' is not defined",
     "output_type": "error",
     "traceback": [
      "\u001b[0;31m---------------------------------------------------------------------------\u001b[0m",
      "\u001b[0;31mNameError\u001b[0m                                 Traceback (most recent call last)",
      "\u001b[0;32m<ipython-input-2-0baa6159af4d>\u001b[0m in \u001b[0;36m<module>\u001b[0;34m()\u001b[0m\n\u001b[1;32m      1\u001b[0m \u001b[0mdfList\u001b[0m \u001b[0;34m=\u001b[0m \u001b[0;34m[\u001b[0m\u001b[0;34m]\u001b[0m\u001b[0;34m\u001b[0m\u001b[0m\n\u001b[1;32m      2\u001b[0m \u001b[0;34m\u001b[0m\u001b[0m\n\u001b[0;32m----> 3\u001b[0;31m \u001b[0mfiles\u001b[0m\u001b[0;34m=\u001b[0m \u001b[0mos\u001b[0m\u001b[0;34m.\u001b[0m\u001b[0mlistdir\u001b[0m\u001b[0;34m(\u001b[0m\u001b[0;34m\"/Users/Carol/Desktop/annotatedPeaks/\"\u001b[0m\u001b[0;34m)\u001b[0m\u001b[0;34m\u001b[0m\u001b[0m\n\u001b[0m\u001b[1;32m      4\u001b[0m \u001b[0;32mprint\u001b[0m \u001b[0mfiles\u001b[0m\u001b[0;34m\u001b[0m\u001b[0m\n\u001b[1;32m      5\u001b[0m \u001b[0;34m\u001b[0m\u001b[0m\n",
      "\u001b[0;31mNameError\u001b[0m: name 'os' is not defined"
     ]
    }
   ],
   "source": [
    "dfList = []\n",
    "\n",
    "files= os.listdir(\"/Users/Carol/Desktop/annotatedPeaks/\")\n",
    "print files\n",
    "\n",
    "for file in files:\n",
    "    df = pd.read_csv(file, sep='\\t', header = None, names = ['GeneName'])        \n",
    "#     df = df.assign(file = file.replace('.txt', ''), num = 1)\n",
    "    dfList.append(df)\n",
    "\n",
    "finaldf = pd.concat(dfList)\n",
    "\n",
    "# PIVOT (LONG TO WIDE)\n",
    "finaldf = finaldf.pivot_table(index=['GeneName'], columns=['file'], \n",
    "                              values='num', aggfunc='count').fillna(0).reset_index()    \n",
    "# CONVERT TO INTEGER\n",
    "numcols = list(range(1,len(finaldf.columns)))\n",
    "finaldf.ix[:,numcols] = finaldf.ix[:,numcols].astype(int)"
   ]
  },
  {
   "cell_type": "code",
   "execution_count": null,
   "metadata": {
    "collapsed": true
   },
   "outputs": [],
   "source": []
  }
 ],
 "metadata": {
  "anaconda-cloud": {},
  "kernelspec": {
   "display_name": "Python [default]",
   "language": "python",
   "name": "python2"
  },
  "language_info": {
   "codemirror_mode": {
    "name": "ipython",
    "version": 2
   },
   "file_extension": ".py",
   "mimetype": "text/x-python",
   "name": "python",
   "nbconvert_exporter": "python",
   "pygments_lexer": "ipython2",
   "version": "2.7.12"
  }
 },
 "nbformat": 4,
 "nbformat_minor": 1
}
